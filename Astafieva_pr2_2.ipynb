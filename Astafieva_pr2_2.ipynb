{
 "cells": [
  {
   "cell_type": "code",
   "execution_count": null,
   "metadata": {},
   "outputs": [],
   "source": [
    "import pandas as pd\n",
    "import numpy as np"
   ]
  },
  {
   "cell_type": "markdown",
   "metadata": {},
   "source": [
    "1. Прочитайте CSV файл (використовуйте метод read_csv):"
   ]
  },
  {
   "cell_type": "code",
   "execution_count": null,
   "metadata": {},
   "outputs": [],
   "source": [
    "# Зчитуємо таблицю в DataFrame\n",
    "data = pd.read_csv('bestsellers with categories.csv', delimiter=',', encoding='latin1') \n",
    "data"
   ]
  },
  {
   "cell_type": "markdown",
   "metadata": {},
   "source": [
    "2.\tВиведіть перші 10 рядків (метод head):"
   ]
  },
  {
   "cell_type": "code",
   "execution_count": null,
   "metadata": {},
   "outputs": [],
   "source": [
    "data_1 = data.head(10)\n",
    "print(data_1)"
   ]
  },
  {
   "cell_type": "markdown",
   "metadata": {},
   "source": [
    "3.\tВиведіть розміри датасету (метод shape)\n",
    "Питання: Про скільки книг зберігає дані датасет?"
   ]
  },
  {
   "cell_type": "code",
   "execution_count": null,
   "metadata": {},
   "outputs": [],
   "source": [
    "num_rows, num_columns = data.shape\n",
    "print(f\"Кількість рядків: {num_rows}, Кількість стовпчиків: {num_columns}\")\n",
    "print(f\"Даний датасет зберігає інформацію про {num_rows} книг\")"
   ]
  },
  {
   "cell_type": "markdown",
   "metadata": {},
   "source": [
    "4.\tЗмініть назви всіх колонок: назва з маленької букви, без пробілів через підкреслення."
   ]
  },
  {
   "cell_type": "code",
   "execution_count": null,
   "metadata": {},
   "outputs": [],
   "source": [
    "for j in range(0, num_columns):    \n",
    "    data = data.rename(columns={data.columns.values.tolist()[j] : data.columns.values.tolist()[j].lower()})\n",
    "data.columns = data.columns.str.replace(' ', '_')    \n",
    "data "
   ]
  },
  {
   "cell_type": "markdown",
   "metadata": {},
   "source": [
    "5.\tВивести кількість пропусків у кожному стовпчику.\n",
    "Питання : Чи є в якихось змінних пропуски? (Так / ні)"
   ]
  },
  {
   "cell_type": "code",
   "execution_count": null,
   "metadata": {},
   "outputs": [],
   "source": [
    "summa = 0\n",
    "for j in range(0, num_columns):\n",
    "    sum = 0\n",
    "    name_cols = data.columns.values.tolist()[j]\n",
    "    for i in range(0, num_rows):\n",
    "        if data.isna().iat[i, j]:\n",
    "            sum = sum + 1\n",
    "    print(\"Кількість пропусків стовпця <<\", name_cols, \">> становить\", sum)\n",
    "    if sum != 0:\n",
    "        summa = summa +1\n",
    "print()\n",
    "if sum != 0:\n",
    "    print(\"В даному дадасеті є пропуски\")\n",
    "else:\n",
    "    print(\"В даному дадасеті пропусків немає\")\n",
    "      "
   ]
  },
  {
   "cell_type": "markdown",
   "metadata": {},
   "source": [
    "6.\tЗа допомогою методу unique  перевірте. Які є унікальні жанри в стовпці genre \n",
    "Питання : Які є унікальні жанри?"
   ]
  },
  {
   "cell_type": "code",
   "execution_count": null,
   "metadata": {},
   "outputs": [],
   "source": [
    "print(\"Кількість унікальних жанрів: \", len(data['genre'].unique()))\n",
    "print(\"Унікальні жанри: \", data['genre'].unique())"
   ]
  },
  {
   "cell_type": "markdown",
   "metadata": {},
   "source": [
    "7.\tВизначте максимальну, мінімальну, медіанну ціну за допомогою методів  max, min, mean, median\n",
    "Питання: Максимальна ціна?\n",
    "Питання: Мінімальна ціна?\n",
    "Питання: Середня ціна?\n",
    "Питання: Медіанна ціна?"
   ]
  },
  {
   "cell_type": "code",
   "execution_count": null,
   "metadata": {},
   "outputs": [],
   "source": [
    "print(\"Максимальна ціна: \", data['price'].max())\n",
    "print(\"Мінімальна ціна: \", data['price'].min())\n",
    "print(\"Середня ціна: \", data['price'].mean())\n",
    "print(\"Медіанна ціна: \", data['price'].median())"
   ]
  },
  {
   "cell_type": "markdown",
   "metadata": {},
   "source": [
    "8.\tВиконайте наступні завдання з пошуку і сортування даних\n",
    "Питання: Який рейтинг у датасеті найвищий? \n",
    "Питання: Скільки книг мають такий рейтинг? \n",
    "Питання: Яка книга має найбільше відгуків? \n",
    "Питання: З тих книг, що потрапили до Топ-50 у 2010 році, яка книга найдорожча ?\n",
    "Питання : Скільки книг жанру Fiction потрапили до Топ-50 у 2012 році \n",
    "Питання : Скільки книг з рейтингом 4.9 потрапило до рейтингу у 2010 та 2011 роках (використовуйте | або метод isin)? \n"
   ]
  },
  {
   "cell_type": "code",
   "execution_count": null,
   "metadata": {},
   "outputs": [],
   "source": [
    "max_user_rating = data[\"user_rating\"].max()\n",
    "print(\"Найвищий рейтинг становить: \", max_user_rating)\n",
    "\n",
    "len(data[data[\"user_rating\"] == max_user_rating])\n",
    "print(\n",
    "    \"Рейтинг\",\n",
    "    max_user_rating,\n",
    "    \"мають \",\n",
    "    len(data[data[\"user_rating\"] == max_user_rating]),\n",
    "    \"книги\",\n",
    ")\n",
    "\n",
    "maxReviews = data[data[\"reviews\"] == data[\"reviews\"].max()]\n",
    "print('Книга \"', maxReviews[\"name\"].values[0], '\" має найбільшу кількість відгуків.')\n",
    "\n",
    "data_2010 = data[data[\"year\"] == 2010].max()\n",
    "print(\"Найдорожча книга 2010 року:\")\n",
    "data_2010\n",
    "\n",
    "data_2012 = data[data[\"genre\"] == \"Fiction\"]\n",
    "print(\"Кількість книг 2012 року жанру Fiction становить:\", data_2012.shape[0])\n",
    "\n",
    "count_data=data.isin({'user_rating': [4.9], 'year': [2010, 2011]})\n",
    "sum = 0\n",
    "for i in range(0, count_data.shape[0]):\n",
    "    for j in range(0, count_data.shape[1]):\n",
    "        if count_data.iat[i, j] == True:\n",
    "            sum = sum + 1\n",
    "print(\n",
    "    \"Кількість книг з рейтингом 4.9 потрапило до рейтингу у 2010 та 2011 роках становить: \",\n",
    "    sum,\n",
    ")"
   ]
  },
  {
   "cell_type": "markdown",
   "metadata": {},
   "source": [
    "9.\tВивести максимальну і мінімальну ціну для жанру Fiction I NonFiction (за допомогою методів  groupby та agg, для підрахунку мінімальних та максимальних значень використовуйте max та min). Використовуйте тількі потрібні вам стовпці."
   ]
  },
  {
   "cell_type": "code",
   "execution_count": null,
   "metadata": {},
   "outputs": [],
   "source": [
    "data_NonFiction = data[data[\"genre\"] != \"Fiction\"]\n",
    "# print(data_NonFiction)\n",
    "data_Fiction = data[data[\"genre\"] == \"Fiction\"]\n",
    "# print(data_Fiction)\n",
    "min_NonFiction = data_NonFiction.groupby('price').min().reset_index()\n",
    "print(\"Мінімальна ціна жанру NonFiction:\", min_NonFiction.iat[0,0])\n",
    "min_Fiction = data_Fiction.groupby('price').min().reset_index()\n",
    "print(\"Мінімальна ціна жанру Fiction:\", min_Fiction.iat[0,0])\n",
    "max_NonFiction = data_NonFiction.groupby('price').max().reset_index()\n",
    "print(\"Мінімальна ціна жанру NonFiction:\", min_NonFiction.iat[len(min_Fiction)-1,0])\n",
    "max_Fiction = data_Fiction.groupby('price').max().reset_index()\n",
    "print(\"Мінімальна ціна жанру Fiction:\", max_Fiction.iat[len(max_Fiction)-1,0])\n",
    "# max_Fiction"
   ]
  }
 ],
 "metadata": {
  "kernelspec": {
   "display_name": "Python 3",
   "language": "python",
   "name": "python3"
  },
  "language_info": {
   "codemirror_mode": {
    "name": "ipython",
    "version": 3
   },
   "file_extension": ".py",
   "mimetype": "text/x-python",
   "name": "python",
   "nbconvert_exporter": "python",
   "pygments_lexer": "ipython3",
   "version": "3.11.4"
  },
  "orig_nbformat": 4
 },
 "nbformat": 4,
 "nbformat_minor": 2
}
