{
 "cells": [
  {
   "cell_type": "code",
   "execution_count": null,
   "metadata": {},
   "outputs": [],
   "source": [
    "import pandas as pd\n",
    "import numpy as np"
   ]
  },
  {
   "cell_type": "markdown",
   "metadata": {},
   "source": [
    "1. Прочитайте CSV файл (використовуйте метод read_csv):"
   ]
  },
  {
   "cell_type": "code",
   "execution_count": null,
   "metadata": {},
   "outputs": [],
   "source": [
    "# Зчитуємо таблицю в DataFrame\n",
    "data = pd.read_csv('Global YouTube Statistics.csv', delimiter=',', encoding='latin1')  # Обираємо другий елемент списку, де знаходиться таблиця\n",
    "data"
   ]
  },
  {
   "cell_type": "markdown",
   "metadata": {},
   "source": [
    "2. Виведіть перші п'ять рядків (використовується метод head):"
   ]
  },
  {
   "cell_type": "code",
   "execution_count": null,
   "metadata": {},
   "outputs": [],
   "source": [
    "df_1 = data.head(5)\n",
    "print(df_1)"
   ]
  },
  {
   "cell_type": "markdown",
   "metadata": {},
   "source": [
    "3. Виведіть розміри датасету (використовуйте метод shape):"
   ]
  },
  {
   "cell_type": "code",
   "execution_count": null,
   "metadata": {},
   "outputs": [],
   "source": [
    "num_rows, num_columns = data.shape\n",
    "print(f\"Кількість рядків: {num_rows}, Кількість стовпчиків: {num_columns}\")"
   ]
  },
  {
   "cell_type": "markdown",
   "metadata": {},
   "source": [
    "4. Перевірте, чи у всіх рядків вистачає даних: виведіть кількість пропусків  у кожному зі стовпців (використовуйте методи isna та sum)"
   ]
  },
  {
   "cell_type": "code",
   "execution_count": null,
   "metadata": {},
   "outputs": [],
   "source": [
    "for j in range(0, num_columns):\n",
    "    sum = 0\n",
    "    name_cols = data.columns.values.tolist()[j]\n",
    "    for i in range(0, num_rows):\n",
    "        if data.isna().iat[i, j]:\n",
    "            sum = sum + 1\n",
    "\n",
    "    print(\"Кількість пропусків стовпця <<\", name_cols, \">> становить\", sum)"
   ]
  },
  {
   "cell_type": "markdown",
   "metadata": {},
   "source": [
    "5. Замініть комірки з пропущеними значенями на середні за стовпцем. І тип даних на float"
   ]
  },
  {
   "cell_type": "code",
   "execution_count": null,
   "metadata": {},
   "outputs": [],
   "source": [
    "new_data=data\n",
    "for j in range(0, num_columns):\n",
    "    try:\n",
    "        new_data.iloc[:j]=data.iloc[:j].astype(float).fillna(data.iloc[:j].mean())\n",
    "        # data.iloc[:j]=data.iloc[:j]\n",
    "    except:\n",
    "        continue\n",
    "new_data"
   ]
  },
  {
   "cell_type": "markdown",
   "metadata": {},
   "source": [
    "6. Ще раз перевірте кількість пропусків."
   ]
  },
  {
   "cell_type": "code",
   "execution_count": null,
   "metadata": {},
   "outputs": [],
   "source": [
    "for j in range(0, num_columns):\n",
    "    sum = 0\n",
    "    name_cols = data.columns.values.tolist()[j]\n",
    "    for i in range(0, num_rows):\n",
    "        if new_data.isna().iat[i, j]:\n",
    "            sum = sum + 1\n",
    "\n",
    "    print(\"Кількість пропусків стовпця <<\" + name_cols + \">> становить\", sum)"
   ]
  },
  {
   "cell_type": "markdown",
   "metadata": {},
   "source": [
    "7. Перевірте, скільки унікальних країн представлено у колонці \"Country\""
   ]
  },
  {
   "cell_type": "code",
   "execution_count": null,
   "metadata": {},
   "outputs": [],
   "source": [
    "print(\"Кількість унікальних країн: \", len(data['Country'].unique()))"
   ]
  },
  {
   "cell_type": "markdown",
   "metadata": {},
   "source": [
    "8. Побудуйте діаграму розподілу переглядів (використовуйте kind='hist'):"
   ]
  },
  {
   "cell_type": "code",
   "execution_count": null,
   "metadata": {},
   "outputs": [],
   "source": [
    "import matplotlib.pyplot as plt\n",
    "views_column = data[\"video views\"]\n",
    "views_column.plot(kind=\"hist\")\n"
   ]
  },
  {
   "cell_type": "markdown",
   "metadata": {},
   "source": [
    "9. Визначте максимальну, мінімальну, середню кількість переглядів (використовуйте методи max, min, mean)"
   ]
  },
  {
   "cell_type": "code",
   "execution_count": null,
   "metadata": {},
   "outputs": [],
   "source": [
    "max_Views = data[\"video views\"].max()\n",
    "print(\"Максимальна кількість переглядів:\", max_Views)\n",
    "min_Views = data[\"video views\"].min()\n",
    "print(\"Мінімальна кількість переглядів:\", min_Views)\n",
    "mean_Views = data[\"video views\"].mean()\n",
    "print(\"Середня кількість переглядів:\", mean_Views)"
   ]
  },
  {
   "cell_type": "markdown",
   "metadata": {},
   "source": [
    "10.Знайдіть країну, де найбільше відео було завантажено на YouTube"
   ]
  },
  {
   "cell_type": "code",
   "execution_count": null,
   "metadata": {},
   "outputs": [],
   "source": [
    "maxUploads = data[data[\"uploads\"] == data[\"uploads\"].max()]\n",
    "\n",
    "# print(maxUploads)\n",
    "print(\n",
    "    \"Найбільшу кількість відео було завантажено на YouTube, у розмірі\",\n",
    "    maxUploads[\"uploads\"].values[0],\n",
    "    \", було здійснено у \",\n",
    "    maxUploads[\"Country\"].values[0],\n",
    "    \".\",\n",
    ")\n",
    "maxUploads"
   ]
  },
  {
   "cell_type": "markdown",
   "metadata": {},
   "source": [
    "11. Знайдіть відео (виведіть його назву) з найбільшою та найменшою кількістю завантажень uploads."
   ]
  },
  {
   "cell_type": "code",
   "execution_count": null,
   "metadata": {},
   "outputs": [],
   "source": [
    "maxUploads = data[data[\"uploads\"] == data[\"uploads\"].max()]\n",
    "minUploads = data[data[\"uploads\"] == data[\"uploads\"].min()]\n",
    "print(\n",
    "    \"Найбільшу кількість відео було завантажено на YouTube, у розмірі\",\n",
    "    maxUploads[\"uploads\"].values[0],\n",
    "    \", має назву \",\n",
    "    maxUploads[\"Title\"].values[0],\n",
    "    \".\"\n",
    ")\n",
    "print(\n",
    "    \"Найменшу кількість відео було завантажено на YouTube, у розмірі\",\n",
    "    minUploads[\"uploads\"].values[0],\n",
    "    \", має назву \",\n",
    "    minUploads[\"Title\"].values[0],\n",
    "    \".\"\n",
    ")"
   ]
  }
 ],
 "metadata": {
  "kernelspec": {
   "display_name": "Python 3",
   "language": "python",
   "name": "python3"
  },
  "language_info": {
   "codemirror_mode": {
    "name": "ipython",
    "version": 3
   },
   "file_extension": ".py",
   "mimetype": "text/x-python",
   "name": "python",
   "nbconvert_exporter": "python",
   "pygments_lexer": "ipython3",
   "version": "3.11.4"
  },
  "orig_nbformat": 4
 },
 "nbformat": 4,
 "nbformat_minor": 2
}
