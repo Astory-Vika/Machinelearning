{
 "cells": [
  {
   "attachments": {},
   "cell_type": "markdown",
   "metadata": {},
   "source": [
    "Завдання 1.\n",
    "\n",
    "1. Створіть одновимірний масив (вектор) з останніми 10-ма натуральними числами та виведіть його значення."
   ]
  },
  {
   "cell_type": "code",
   "execution_count": 1,
   "metadata": {},
   "outputs": [],
   "source": [
    "import numpy as np"
   ]
  },
  {
   "cell_type": "code",
   "execution_count": 2,
   "metadata": {},
   "outputs": [
    {
     "name": "stdout",
     "output_type": "stream",
     "text": [
      "[1 2 3 4 5 6 7 8 9]\n"
     ]
    }
   ],
   "source": [
    "array = np.arange(1, 10)\n",
    "print(array)"
   ]
  },
  {
   "attachments": {},
   "cell_type": "markdown",
   "metadata": {},
   "source": [
    "Завдання 2\n",
    "\n",
    "1. Створіть двовимірний масив (матрицю) розміром 4x4, заповніть його одиницями та виведіть його значення.\n"
   ]
  },
  {
   "cell_type": "code",
   "execution_count": 3,
   "metadata": {},
   "outputs": [
    {
     "name": "stdout",
     "output_type": "stream",
     "text": [
      "[[1. 1. 1. 1.]\n",
      " [1. 1. 1. 1.]\n",
      " [1. 1. 1. 1.]\n",
      " [1. 1. 1. 1.]]\n"
     ]
    }
   ],
   "source": [
    "from random import randint\n",
    "\n",
    "matrix = np.ones((4, 4))\n",
    "print(matrix)"
   ]
  },
  {
   "attachments": {},
   "cell_type": "markdown",
   "metadata": {},
   "source": [
    "Завдання 3\n",
    "\n",
    "1. Створіть масив розміром 4x4, заповніть його випадковими цілими числами в діапазоні від 1 до 100 та виведіть його значення."
   ]
  },
  {
   "cell_type": "code",
   "execution_count": 4,
   "metadata": {},
   "outputs": [
    {
     "name": "stdout",
     "output_type": "stream",
     "text": [
      "[[83 70 74  6]\n",
      " [23 17 56 59]\n",
      " [29 93 54  7]\n",
      " [21 99 77  7]]\n"
     ]
    }
   ],
   "source": [
    "matrix = np.random.randint(1, 100, size=(4, 4))\n",
    "print(matrix)"
   ]
  },
  {
   "attachments": {},
   "cell_type": "markdown",
   "metadata": {},
   "source": [
    "Завдання 4\n",
    "\n",
    "1. Створіть масив розміром 3x3, заповніть його випадковими дійсними числами в діапазоні від 0 до 1 та виведіть його значення."
   ]
  },
  {
   "cell_type": "code",
   "execution_count": 5,
   "metadata": {},
   "outputs": [
    {
     "name": "stdout",
     "output_type": "stream",
     "text": [
      "[[0.18146716 0.67311013 0.38155139 0.7270616 ]\n",
      " [0.6219602  0.54173379 0.67454958 0.30382088]\n",
      " [0.41190207 0.36127427 0.25815632 0.05566169]\n",
      " [0.23775648 0.18250575 0.94154549 0.83258757]]\n"
     ]
    }
   ],
   "source": [
    "matrix = np.random.random(size=(4, 4))\n",
    "\n",
    "print(matrix)"
   ]
  },
  {
   "attachments": {},
   "cell_type": "markdown",
   "metadata": {},
   "source": [
    "Завдання 5\n",
    "\n",
    "1. Створіть два одновимірних масиви розміром 6, заповніть їх випадковими цілими числами в діапазоні від 1 до 20 та виконайте на них поелементні операції додавання, віднімання та множення.\n"
   ]
  },
  {
   "cell_type": "code",
   "execution_count": 6,
   "metadata": {},
   "outputs": [
    {
     "name": "stdout",
     "output_type": "stream",
     "text": [
      "[14  3 19 19 18 10]\n",
      "[7 1 5 8 8 4]\n",
      "\n",
      "[21  4 24 27 26 14]\n",
      "[ 7  2 14 11 10  6]\n",
      "[ 98   3  95 152 144  40]\n"
     ]
    }
   ],
   "source": [
    "vector1 = np.random.randint(1, 20, 6)\n",
    "print(vector1)\n",
    "\n",
    "vector2 = np.random.randint(1, 20, 6)\n",
    "print(vector2)\n",
    "print()\n",
    "\n",
    "vector3 = vector1 + vector2\n",
    "print(vector3)\n",
    "vector4 = vector1 - vector2\n",
    "print(vector4)\n",
    "vector5 = vector1 * vector2\n",
    "print(vector5)"
   ]
  },
  {
   "attachments": {},
   "cell_type": "markdown",
   "metadata": {},
   "source": [
    "Завдання 6\n",
    "1.\tСтворіть два вектори розміром 5, заповніть їх довільними цілими числами та знайдіть їх скалярний добуток."
   ]
  },
  {
   "cell_type": "code",
   "execution_count": 7,
   "metadata": {},
   "outputs": [
    {
     "name": "stdout",
     "output_type": "stream",
     "text": [
      "[ 2  5  6  4  4 18]\n",
      "[ 9  7 14 18 11  3]\n",
      "\n",
      "307\n"
     ]
    }
   ],
   "source": [
    "vector1 = np.random.randint(1, 20, 6)\n",
    "print(vector1)\n",
    "\n",
    "vector2 = np.random.randint(1, 20, 6)\n",
    "print(vector2)\n",
    "print()\n",
    "\n",
    "s_dot = np.dot(vector1, vector2)\n",
    "print(s_dot)"
   ]
  },
  {
   "attachments": {},
   "cell_type": "markdown",
   "metadata": {},
   "source": [
    "Завдання 7\n",
    "1.\tСтворіть дві матриці розміром 3x2 та 2x4, заповніть їх випадковими цілими числами в діапазоні від 1 до 20 та перемножте їх між собою."
   ]
  },
  {
   "cell_type": "code",
   "execution_count": 8,
   "metadata": {},
   "outputs": [
    {
     "name": "stdout",
     "output_type": "stream",
     "text": [
      "[[ 8  8]\n",
      " [ 3 19]\n",
      " [14 12]]\n",
      "[[11  6 13 18]\n",
      " [ 5  9 11  5]]\n",
      "\n",
      "[[128 120 192 184]\n",
      " [128 189 248 149]\n",
      " [214 192 314 312]]\n"
     ]
    }
   ],
   "source": [
    "matrix_1 = np.random.randint(1, 20, size=(3, 2))\n",
    "print(matrix_1)\n",
    "\n",
    "matrix_2 = np.random.randint(1, 20, size=(2, 4))\n",
    "print(matrix_2)\n",
    "print()\n",
    "\n",
    "new_matrix = np.dot(matrix_1, matrix_2)\n",
    "print(new_matrix)\n"
   ]
  },
  {
   "cell_type": "markdown",
   "metadata": {},
   "source": [
    "\n",
    "Завдання 8\n",
    "1.\tСтворіть матрицю розміром 2x2, заповніть її випадковими цілими числами в діапазоні від 1 до 7 та знайдіть її обернену матрицю."
   ]
  },
  {
   "cell_type": "code",
   "execution_count": 9,
   "metadata": {},
   "outputs": [
    {
     "name": "stdout",
     "output_type": "stream",
     "text": [
      "[[ -1.53477556 -17.11957744  25.56079626   5.8785459 ]\n",
      " [  1.7913544   11.41254084 -15.30563399  -4.70563798]\n",
      " [ -0.08980823  14.32128948 -19.36102645  -3.85322007]\n",
      " [  0.14716636 -13.80840862  17.95055432   4.91134595]]\n"
     ]
    }
   ],
   "source": [
    "inverse_matrix = np.linalg.inv(matrix)\n",
    "print(inverse_matrix)"
   ]
  },
  {
   "attachments": {},
   "cell_type": "markdown",
   "metadata": {},
   "source": [
    "Завдання 9.\n",
    "1.\tСтворіть матрицю розміром 3x3, заповніть її випадковими дійсними числами в діапазоні від 0 до 1 та транспонуйте її."
   ]
  },
  {
   "cell_type": "code",
   "execution_count": 10,
   "metadata": {},
   "outputs": [
    {
     "data": {
      "text/plain": [
       "array([[0.58528149, 0.21625089, 0.47833495],\n",
       "       [0.06363941, 0.34574888, 0.62091329],\n",
       "       [0.70104618, 0.05181173, 0.9606239 ]])"
      ]
     },
     "execution_count": 10,
     "metadata": {},
     "output_type": "execute_result"
    }
   ],
   "source": [
    "matrix = np.random.random((3, 3))\n",
    "matrix"
   ]
  },
  {
   "attachments": {},
   "cell_type": "markdown",
   "metadata": {},
   "source": [
    "Завдання 10\n",
    "1.\tСтворіть матрицю розміром 3x4 та вектор розміром 4, заповніть їх випадковими цілими числами в діапазоні від 1 до 10 та знайдіть суму елементів отриманого вектору."
   ]
  },
  {
   "cell_type": "code",
   "execution_count": 11,
   "metadata": {},
   "outputs": [
    {
     "name": "stdout",
     "output_type": "stream",
     "text": [
      "[[4 8 4 3]\n",
      " [4 3 1 8]\n",
      " [5 3 1 4]]\n",
      "[4 3 5 8]\n"
     ]
    },
    {
     "data": {
      "text/plain": [
       "20"
      ]
     },
     "execution_count": 11,
     "metadata": {},
     "output_type": "execute_result"
    }
   ],
   "source": [
    "matrix = np.random.randint(1, 10, size=(3, 4))\n",
    "print(matrix)\n",
    "\n",
    "vector = np.random.randint(1, 10, size=4)\n",
    "print(vector)\n",
    "\n",
    "summ=np.sum(vector)\n",
    "summ"
   ]
  },
  {
   "attachments": {},
   "cell_type": "markdown",
   "metadata": {},
   "source": [
    "Завдання 11\n",
    "1.\tСтворіть матрицю розміром 2x3 та вектор розміром 3, заповніть матрицю випадковими цілими числами в діапазоні від 1 до 10, а вектор - випадковими цілими числами в діапазоні від 1 до 10, і знайдіть добуток матриці на вектор."
   ]
  },
  {
   "cell_type": "code",
   "execution_count": 12,
   "metadata": {},
   "outputs": [
    {
     "name": "stdout",
     "output_type": "stream",
     "text": [
      "[[6 5 8]\n",
      " [3 7 7]]\n",
      "[1 7 5]\n"
     ]
    },
    {
     "data": {
      "text/plain": [
       "array([[ 6, 35, 40],\n",
       "       [ 3, 49, 35]])"
      ]
     },
     "execution_count": 12,
     "metadata": {},
     "output_type": "execute_result"
    }
   ],
   "source": [
    "matrix = np.random.randint(1, 10, size=(2, 3))\n",
    "print(matrix)\n",
    "\n",
    "vector = np.random.randint(1, 10, size=3)\n",
    "print(vector)\n",
    "\n",
    "new_matrix=matrix*vector\n",
    "new_matrix"
   ]
  },
  {
   "attachments": {},
   "cell_type": "markdown",
   "metadata": {},
   "source": [
    "Завдання 12\n",
    "1.\tСтворіть дві матриці розміром 2x2, заповніть їх випадковими цілими числами в діапазоні від 1 до 10 та знайдіть їхню суму."
   ]
  },
  {
   "cell_type": "code",
   "execution_count": 13,
   "metadata": {},
   "outputs": [
    {
     "name": "stdout",
     "output_type": "stream",
     "text": [
      "[[7 7]\n",
      " [7 1]]\n",
      "[[7 2]\n",
      " [7 2]]\n",
      "\n",
      "[[14  9]\n",
      " [14  3]]\n"
     ]
    }
   ],
   "source": [
    "matrix_1 = np.random.randint(1, 10, size=(2, 2))\n",
    "print(matrix_1)\n",
    "\n",
    "matrix_2 = np.random.randint(1, 10, size=(2, 2))\n",
    "print(matrix_2)\n",
    "print()\n",
    "\n",
    "new_matrix = matrix_1 + matrix_2\n",
    "print(new_matrix)"
   ]
  },
  {
   "attachments": {},
   "cell_type": "markdown",
   "metadata": {},
   "source": [
    "Завдання 13\n",
    "1.\tСтворіть дві матриці розміром 2x2, заповніть їх випадковими дійсними числами в діапазоні від 0 до 1 та знайдіть їх добуток."
   ]
  },
  {
   "cell_type": "code",
   "execution_count": 14,
   "metadata": {},
   "outputs": [
    {
     "name": "stdout",
     "output_type": "stream",
     "text": [
      "[[0.50861313 0.69851301]\n",
      " [0.6743217  0.99008783]]\n",
      "[[0.9518036  0.84233525]\n",
      " [0.15200695 0.40656122]]\n",
      "\n",
      "[[0.48409981 0.58838214]\n",
      " [0.10250158 0.40253132]]\n"
     ]
    }
   ],
   "source": [
    "matrix_1 = np.random.random(size=(2, 2))\n",
    "print(matrix_1)\n",
    "\n",
    "matrix_2 = np.random.random(size=(2, 2))\n",
    "print(matrix_2)\n",
    "print()\n",
    "\n",
    "new_matrix = matrix_1 * matrix_2\n",
    "print(new_matrix)"
   ]
  },
  {
   "attachments": {},
   "cell_type": "markdown",
   "metadata": {},
   "source": [
    "Завдання 14\n",
    "1.\tСтворіть матрицю розміром 5x5, заповніть її випадковими дійсними числами в діапазоні від 0 до 1 та знайдіть суму елементів матриці."
   ]
  },
  {
   "cell_type": "code",
   "execution_count": 15,
   "metadata": {},
   "outputs": [
    {
     "name": "stdout",
     "output_type": "stream",
     "text": [
      "[[0.79109618 0.05800803 0.8583247  0.11758739 0.06027395]\n",
      " [0.65436002 0.73471813 0.24644813 0.8014947  0.62910439]\n",
      " [0.410311   0.8522169  0.34043117 0.9780644  0.62842349]\n",
      " [0.35264953 0.04109518 0.34797432 0.80073656 0.22975883]\n",
      " [0.6451793  0.21699689 0.83895484 0.75898989 0.76443818]]\n"
     ]
    },
    {
     "data": {
      "text/plain": [
       "13.157636099303305"
      ]
     },
     "execution_count": 15,
     "metadata": {},
     "output_type": "execute_result"
    }
   ],
   "source": [
    "matrix = np.random.random(size=(5, 5))\n",
    "print(matrix)\n",
    "\n",
    "summ=np.sum(matrix)\n",
    "summ"
   ]
  },
  {
   "attachments": {},
   "cell_type": "markdown",
   "metadata": {},
   "source": [
    "Завдання 15\n",
    "1.\tСтворіть матрицю розміром 3x3, заповніть її випадковими дійсними числами в діапазоні від -1 до 1 та знайдіть вектор-стовпчик, що містить суму елементів кожного рядка матриці."
   ]
  },
  {
   "cell_type": "code",
   "execution_count": 17,
   "metadata": {},
   "outputs": [
    {
     "name": "stdout",
     "output_type": "stream",
     "text": [
      "[[-0.84895572 -0.72327878 -0.58018341  0.25733668 -0.69971292]\n",
      " [-0.05499754  0.6231549   0.17520162  0.03019588  0.01723386]\n",
      " [-0.17056897 -0.24296263  0.54497594  0.10847236 -0.00221032]\n",
      " [ 0.75784889 -0.28761194  0.97090769  0.00126007  0.94755741]\n",
      " [-0.837942   -0.93082666  0.5974256  -0.31172389 -0.82640006]]\n"
     ]
    },
    {
     "data": {
      "text/plain": [
       "array([-2.59479416,  0.79078872,  0.23770639,  2.38996212, -2.30946701])"
      ]
     },
     "execution_count": 17,
     "metadata": {},
     "output_type": "execute_result"
    }
   ],
   "source": [
    "matrix = np.random.uniform(-1, 1, size=(5, 5))\n",
    "print(matrix)\n",
    "\n",
    "summ_row=np.sum(matrix, axis=1)\n",
    "summ_row"
   ]
  },
  {
   "attachments": {},
   "cell_type": "markdown",
   "metadata": {},
   "source": [
    "Висновок: в цих завданнях були використані методи пакету numpy для роботи з векторами та матрицями, а також з діями між ними."
   ]
  },
  {
   "cell_type": "markdown",
   "metadata": {},
   "source": []
  }
 ],
 "metadata": {
  "kernelspec": {
   "display_name": "Python 3",
   "language": "python",
   "name": "python3"
  },
  "language_info": {
   "codemirror_mode": {
    "name": "ipython",
    "version": 3
   },
   "file_extension": ".py",
   "mimetype": "text/x-python",
   "name": "python",
   "nbconvert_exporter": "python",
   "pygments_lexer": "ipython3",
   "version": "3.11.4"
  },
  "orig_nbformat": 4
 },
 "nbformat": 4,
 "nbformat_minor": 2
}
